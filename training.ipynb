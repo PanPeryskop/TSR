{
 "cells": [
  {
   "cell_type": "code",
   "execution_count": null,
   "id": "5bbcd0ee332d520e",
   "metadata": {
    "ExecuteTime": {
     "end_time": "2024-11-05T22:07:38.061526Z",
     "start_time": "2024-11-05T22:07:38.058951Z"
    }
   },
   "outputs": [],
   "source": [
    "import torch"
   ]
  },
  {
   "cell_type": "code",
   "execution_count": null,
   "id": "8b270f712a3b0bc",
   "metadata": {
    "ExecuteTime": {
     "end_time": "2024-11-05T22:07:38.112829Z",
     "start_time": "2024-11-05T22:07:38.062532Z"
    }
   },
   "outputs": [],
   "source": [
    "print(\"CUDA available:\", torch.cuda.is_available())\n",
    "print(\"CUDA device count:\", torch.cuda.device_count())"
   ]
  },
  {
   "cell_type": "code",
   "execution_count": null,
   "id": "13e3636ae610e854",
   "metadata": {
    "ExecuteTime": {
     "end_time": "2024-11-05T22:07:39.378300Z",
     "start_time": "2024-11-05T22:07:38.112829Z"
    }
   },
   "outputs": [],
   "source": [
    "from ultralytics import YOLO"
   ]
  },
  {
   "cell_type": "code",
   "execution_count": null,
   "id": "46ac39844894ce19",
   "metadata": {
    "ExecuteTime": {
     "end_time": "2024-11-05T22:07:39.712243Z",
     "start_time": "2024-11-05T22:07:39.379304Z"
    }
   },
   "outputs": [],
   "source": [
    "model = YOLO(\"yolo11m.yaml\")"
   ]
  },
  {
   "cell_type": "code",
   "execution_count": null,
   "id": "initial_id",
   "metadata": {
    "ExecuteTime": {
     "end_time": "2024-11-05T23:41:15.418559Z",
     "start_time": "2024-11-05T22:07:39.712243Z"
    }
   },
   "outputs": [],
   "source": [
    "train_results = model.train(\n",
    "    data=\"config.yaml\", \n",
    "    epochs=350,\n",
    "    # imgsz=640,  \n",
    "    device=0 \n",
    ")"
   ]
  },
  {
   "cell_type": "code",
   "execution_count": null,
   "id": "64461f26e854130d",
   "metadata": {
    "ExecuteTime": {
     "end_time": "2024-11-05T23:41:15.863421Z",
     "start_time": "2024-11-05T23:41:15.421073Z"
    }
   },
   "outputs": [],
   "source": [
    "model.save(\"tsrm\")"
   ]
  },
  {
   "cell_type": "code",
   "execution_count": null,
   "id": "4585d12f78105493",
   "metadata": {
    "ExecuteTime": {
     "end_time": "2024-11-05T23:42:30.937430Z",
     "start_time": "2024-11-05T23:42:28.037239Z"
    }
   },
   "outputs": [],
   "source": [
    "model.export(format=\"onnx\")"
   ]
  },
  {
   "cell_type": "code",
   "execution_count": null,
   "id": "9391b816ca9168d3",
   "metadata": {},
   "outputs": [],
   "source": [
    "# metrics = model.val()"
   ]
  }
 ],
 "metadata": {
  "kernelspec": {
   "display_name": "Python 3 (ipykernel)",
   "language": "python",
   "name": "python3"
  },
  "language_info": {
   "codemirror_mode": {
    "name": "ipython",
    "version": 3
   },
   "file_extension": ".py",
   "mimetype": "text/x-python",
   "name": "python",
   "nbconvert_exporter": "python",
   "pygments_lexer": "ipython3",
   "version": "3.11.8"
  }
 },
 "nbformat": 4,
 "nbformat_minor": 5
}
